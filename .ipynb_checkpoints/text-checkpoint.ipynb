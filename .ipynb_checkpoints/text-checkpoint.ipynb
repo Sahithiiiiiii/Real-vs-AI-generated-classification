{
 "cells": [
  {
   "cell_type": "code",
   "execution_count": 3,
   "id": "f62db778-3780-43b3-a005-317f62309ffb",
   "metadata": {
    "tags": []
   },
   "outputs": [
    {
     "name": "stdout",
     "output_type": "stream",
     "text": [
      "Requirement already satisfied: opendatasets in /usr/local/lib/python3.11/dist-packages (0.1.22)\n",
      "Requirement already satisfied: tqdm in /usr/local/lib/python3.11/dist-packages (from opendatasets) (4.66.1)\n",
      "Requirement already satisfied: kaggle in /usr/local/lib/python3.11/dist-packages (from opendatasets) (1.6.17)\n",
      "Requirement already satisfied: click in /usr/local/lib/python3.11/dist-packages (from opendatasets) (8.1.7)\n",
      "Requirement already satisfied: six>=1.10 in /usr/lib/python3/dist-packages (from kaggle->opendatasets) (1.16.0)\n",
      "Requirement already satisfied: certifi>=2023.7.22 in /usr/local/lib/python3.11/dist-packages (from kaggle->opendatasets) (2024.12.14)\n",
      "Requirement already satisfied: python-dateutil in /usr/local/lib/python3.11/dist-packages (from kaggle->opendatasets) (2.8.2)\n",
      "Requirement already satisfied: requests in /usr/local/lib/python3.11/dist-packages (from kaggle->opendatasets) (2.31.0)\n",
      "Requirement already satisfied: python-slugify in /usr/lib/python3/dist-packages (from kaggle->opendatasets) (4.0.0)\n",
      "Requirement already satisfied: urllib3 in /usr/local/lib/python3.11/dist-packages (from kaggle->opendatasets) (2.0.7)\n",
      "Requirement already satisfied: bleach in /usr/local/lib/python3.11/dist-packages (from kaggle->opendatasets) (6.1.0)\n",
      "Requirement already satisfied: webencodings in /usr/local/lib/python3.11/dist-packages (from bleach->kaggle->opendatasets) (0.5.1)\n",
      "Requirement already satisfied: charset-normalizer<4,>=2 in /usr/local/lib/python3.11/dist-packages (from requests->kaggle->opendatasets) (3.3.2)\n",
      "Requirement already satisfied: idna<4,>=2.5 in /usr/lib/python3/dist-packages (from requests->kaggle->opendatasets) (3.3)\n",
      "\u001b[33mWARNING: Running pip as the 'root' user can result in broken permissions and conflicting behaviour with the system package manager. It is recommended to use a virtual environment instead: https://pip.pypa.io/warnings/venv\u001b[0m\u001b[33m\n",
      "\u001b[0mNote: you may need to restart the kernel to use updated packages.\n"
     ]
    }
   ],
   "source": [
    "pip install opendatasets"
   ]
  },
  {
   "cell_type": "code",
   "execution_count": 4,
   "id": "4cb3ec31-ec70-4262-ae18-b6e0dd23c22c",
   "metadata": {
    "tags": []
   },
   "outputs": [
    {
     "name": "stdout",
     "output_type": "stream",
     "text": [
      "Skipping, found downloaded files in \"./ai-vs-human-text\" (use force=True to force download)\n"
     ]
    }
   ],
   "source": [
    "import opendatasets as od\n",
    "od.download('https://www.kaggle.com/datasets/shanegerami/ai-vs-human-text/data')"
   ]
  },
  {
   "cell_type": "code",
   "execution_count": 5,
   "id": "7c7b1824-4e3e-4899-a53e-ddaf4fdc9329",
   "metadata": {
    "tags": []
   },
   "outputs": [],
   "source": [
    "import pandas as pd\n",
    "import re\n",
    "from sklearn.pipeline import Pipeline\n",
    "from sklearn.feature_extraction.text import CountVectorizer, TfidfTransformer\n",
    "from sklearn.naive_bayes import MultinomialNB\n",
    "from sklearn.linear_model import LogisticRegression\n",
    "from xgboost import XGBClassifier"
   ]
  },
  {
   "cell_type": "code",
   "execution_count": 6,
   "id": "998608a2-fb0c-4e67-9d37-f39154146cf6",
   "metadata": {
    "tags": []
   },
   "outputs": [
    {
     "data": {
      "text/html": [
       "<div>\n",
       "<style scoped>\n",
       "    .dataframe tbody tr th:only-of-type {\n",
       "        vertical-align: middle;\n",
       "    }\n",
       "\n",
       "    .dataframe tbody tr th {\n",
       "        vertical-align: top;\n",
       "    }\n",
       "\n",
       "    .dataframe thead th {\n",
       "        text-align: right;\n",
       "    }\n",
       "</style>\n",
       "<table border=\"1\" class=\"dataframe\">\n",
       "  <thead>\n",
       "    <tr style=\"text-align: right;\">\n",
       "      <th></th>\n",
       "      <th>text</th>\n",
       "      <th>generated</th>\n",
       "    </tr>\n",
       "  </thead>\n",
       "  <tbody>\n",
       "    <tr>\n",
       "      <th>0</th>\n",
       "      <td>Cars. Cars have been around since they became ...</td>\n",
       "      <td>0.0</td>\n",
       "    </tr>\n",
       "    <tr>\n",
       "      <th>1</th>\n",
       "      <td>Transportation is a large necessity in most co...</td>\n",
       "      <td>0.0</td>\n",
       "    </tr>\n",
       "    <tr>\n",
       "      <th>2</th>\n",
       "      <td>\"America's love affair with it's vehicles seem...</td>\n",
       "      <td>0.0</td>\n",
       "    </tr>\n",
       "    <tr>\n",
       "      <th>3</th>\n",
       "      <td>How often do you ride in a car? Do you drive a...</td>\n",
       "      <td>0.0</td>\n",
       "    </tr>\n",
       "    <tr>\n",
       "      <th>4</th>\n",
       "      <td>Cars are a wonderful thing. They are perhaps o...</td>\n",
       "      <td>0.0</td>\n",
       "    </tr>\n",
       "    <tr>\n",
       "      <th>5</th>\n",
       "      <td>The electrol college system is an unfair syste...</td>\n",
       "      <td>0.0</td>\n",
       "    </tr>\n",
       "    <tr>\n",
       "      <th>6</th>\n",
       "      <td>Dear state senator, It is the utmost respect t...</td>\n",
       "      <td>0.0</td>\n",
       "    </tr>\n",
       "  </tbody>\n",
       "</table>\n",
       "</div>"
      ],
      "text/plain": [
       "                                                text  generated\n",
       "0  Cars. Cars have been around since they became ...        0.0\n",
       "1  Transportation is a large necessity in most co...        0.0\n",
       "2  \"America's love affair with it's vehicles seem...        0.0\n",
       "3  How often do you ride in a car? Do you drive a...        0.0\n",
       "4  Cars are a wonderful thing. They are perhaps o...        0.0\n",
       "5  The electrol college system is an unfair syste...        0.0\n",
       "6  Dear state senator, It is the utmost respect t...        0.0"
      ]
     },
     "execution_count": 6,
     "metadata": {},
     "output_type": "execute_result"
    }
   ],
   "source": [
    "data = pd.read_csv(\"ai-vs-human-text/AI_Human.csv\")\n",
    "data.head(7)"
   ]
  },
  {
   "cell_type": "code",
   "execution_count": 7,
   "id": "78a799eb-eb6a-4c71-9ff7-13e6a8e73bda",
   "metadata": {
    "tags": []
   },
   "outputs": [
    {
     "data": {
      "text/plain": [
       "generated\n",
       "0.0    305797\n",
       "1.0    181438\n",
       "Name: count, dtype: int64"
      ]
     },
     "execution_count": 7,
     "metadata": {},
     "output_type": "execute_result"
    }
   ],
   "source": [
    "data['generated'].value_counts()"
   ]
  },
  {
   "cell_type": "code",
   "execution_count": 8,
   "id": "4a54c966-b487-4a9c-a3c4-b7bf7173a5d1",
   "metadata": {
    "tags": []
   },
   "outputs": [],
   "source": [
    "data['generated'] = data['generated'].astype(int)"
   ]
  },
  {
   "cell_type": "code",
   "execution_count": 9,
   "id": "74d68286-321e-4cf4-991f-c6981c95a17d",
   "metadata": {
    "tags": []
   },
   "outputs": [
    {
     "data": {
      "text/plain": [
       "text         0\n",
       "generated    0\n",
       "dtype: int64"
      ]
     },
     "execution_count": 9,
     "metadata": {},
     "output_type": "execute_result"
    }
   ],
   "source": [
    "data.isnull().sum()"
   ]
  },
  {
   "cell_type": "code",
   "execution_count": 10,
   "id": "c23b41b3-0f6c-4a66-94ef-f233b8362a6f",
   "metadata": {
    "tags": []
   },
   "outputs": [
    {
     "name": "stdout",
     "output_type": "stream",
     "text": [
      "<class 'pandas.core.frame.DataFrame'>\n",
      "RangeIndex: 487235 entries, 0 to 487234\n",
      "Data columns (total 2 columns):\n",
      " #   Column     Non-Null Count   Dtype \n",
      "---  ------     --------------   ----- \n",
      " 0   text       487235 non-null  object\n",
      " 1   generated  487235 non-null  int64 \n",
      "dtypes: int64(1), object(1)\n",
      "memory usage: 7.4+ MB\n"
     ]
    }
   ],
   "source": [
    "data.info()"
   ]
  },
  {
   "cell_type": "code",
   "execution_count": 11,
   "id": "eb5738ca-ccde-4cb3-9f03-a87aae5530f0",
   "metadata": {
    "tags": []
   },
   "outputs": [
    {
     "data": {
      "text/plain": [
       "'Many of us are used to getting somewhere by simply using a car, but should we always use a car. If we limit car usage we can solve most of our problems. We can save comically and collect less polution In source one the German Suburbs are car free, where street parking, driveways, and home garages are forbidden generally. Car ownership is allowed, however where a carowner buys space for their car has to pay near 40,000, along with a home. As a result according to source one 70 percent of vaughn\\'s families do not own cars , and 57 percent sold a car to move here. Many citizens complain when the gas prices go up, but if we limit our car usage we wont have to complain anymore. We will save money, because when we decrease the usage of cars we wont use as much gas or diesel. Heidrun Walter told Elisabeth Rosenthal that he now lives happier this way. Not only do we save money but we also relieve tension through out our bodies.\\n\\nHowever we may not enjoy this new idea of limiting car usage some of us actually enjoy driving but, there are days where after a long day of working the last thing you want to be in is in traffic jams.\"It\\'s a good opportunity to take away stress and lower air pollution,\" said businessman named, Carlos Arturo Plaza who rides a two seat bicycle with his wife.\\n\\nIn other ways that limiting car usage could help us is by eliminating pollution, of course everyone enjoys breathing in fresh air. By limiting car usage we can help lower polution. According to source two,\" After days of nearrecord pollution, Paris enforced a partial driving ban to clear the air of the global city,\" the usage of car produced so much smog that they had to ban driving. Many of use drive to so many places that are near by that in reality we dont really have to use our car not only will we reduce pollution, but we will also maintain ourselves fit by using different alternatives like, walking, running, ridding our bikes. Although some may say, \" what if its an emergency,\" its fine we\\'re only limiting car usage, we aren\\'t goining to ban it forever.\\n\\nIf we limit car usage we can not only save money, but we can also reduce polution, and have a better lifestyle. Although these aren\\'t the only ways limiting car usage can benefit us.'"
      ]
     },
     "execution_count": 11,
     "metadata": {},
     "output_type": "execute_result"
    }
   ],
   "source": [
    "data['text'][777]"
   ]
  },
  {
   "cell_type": "code",
   "execution_count": 12,
   "id": "8343aed9-6574-4cac-b14f-3d4cbb61f25c",
   "metadata": {
    "tags": []
   },
   "outputs": [],
   "source": [
    "def clean_text(text):\n",
    "    cleaning_pattern = r'[^a-zA-Z\\s]'\n",
    "\n",
    "    clean_text = re.sub(cleaning_pattern, '', text)\n",
    "\n",
    "    clean_text = clean_text.replace('\\n', ' ')\n",
    "\n",
    "    clean_text = re.sub(r'\\s+', ' ', clean_text)\n",
    "\n",
    "    return clean_text.strip()"
   ]
  },
  {
   "cell_type": "code",
   "execution_count": 13,
   "id": "7ce70613-9cfc-4c12-b40a-5971ebdca7ce",
   "metadata": {
    "tags": []
   },
   "outputs": [],
   "source": [
    "data['text'] = data['text'].apply(clean_text)"
   ]
  },
  {
   "cell_type": "code",
   "execution_count": 14,
   "id": "6aad0488-f593-4eb3-94a0-bf15be30f50f",
   "metadata": {
    "tags": []
   },
   "outputs": [],
   "source": [
    "data['text']= data['text'].str.lower()"
   ]
  },
  {
   "cell_type": "code",
   "execution_count": 15,
   "id": "811bbc2f-7440-4e3c-be0b-622666621526",
   "metadata": {
    "tags": []
   },
   "outputs": [
    {
     "data": {
      "text/plain": [
       "'many of us are used to getting somewhere by simply using a car but should we always use a car if we limit car usage we can solve most of our problems we can save comically and collect less polution in source one the german suburbs are car free where street parking driveways and home garages are forbidden generally car ownership is allowed however where a carowner buys space for their car has to pay near along with a home as a result according to source one percent of vaughns families do not own cars and percent sold a car to move here many citizens complain when the gas prices go up but if we limit our car usage we wont have to complain anymore we will save money because when we decrease the usage of cars we wont use as much gas or diesel heidrun walter told elisabeth rosenthal that he now lives happier this way not only do we save money but we also relieve tension through out our bodies however we may not enjoy this new idea of limiting car usage some of us actually enjoy driving but there are days where after a long day of working the last thing you want to be in is in traffic jamsits a good opportunity to take away stress and lower air pollution said businessman named carlos arturo plaza who rides a two seat bicycle with his wife in other ways that limiting car usage could help us is by eliminating pollution of course everyone enjoys breathing in fresh air by limiting car usage we can help lower polution according to source two after days of nearrecord pollution paris enforced a partial driving ban to clear the air of the global city the usage of car produced so much smog that they had to ban driving many of use drive to so many places that are near by that in reality we dont really have to use our car not only will we reduce pollution but we will also maintain ourselves fit by using different alternatives like walking running ridding our bikes although some may say what if its an emergency its fine were only limiting car usage we arent goining to ban it forever if we limit car usage we can not only save money but we can also reduce polution and have a better lifestyle although these arent the only ways limiting car usage can benefit us'"
      ]
     },
     "execution_count": 15,
     "metadata": {},
     "output_type": "execute_result"
    }
   ],
   "source": [
    "data['text'][777]"
   ]
  },
  {
   "cell_type": "code",
   "execution_count": 16,
   "id": "911c91f9-5906-4a5b-9d86-e68e7c941c9c",
   "metadata": {
    "tags": []
   },
   "outputs": [
    {
     "name": "stderr",
     "output_type": "stream",
     "text": [
      "[nltk_data] Downloading package punkt to /root/nltk_data...\n",
      "[nltk_data]   Package punkt is already up-to-date!\n"
     ]
    }
   ],
   "source": [
    "import nltk\n",
    "from nltk.tokenize import word_tokenize\n",
    "\n",
    "nltk.download('punkt')\n",
    "\n",
    "data['tokenized_text'] = data['text'].apply(lambda x: word_tokenize(x))"
   ]
  },
  {
   "cell_type": "code",
   "execution_count": 17,
   "id": "fef2cce6-214d-43ea-a37e-1f5420824087",
   "metadata": {
    "tags": []
   },
   "outputs": [
    {
     "data": {
      "text/html": [
       "<div>\n",
       "<style scoped>\n",
       "    .dataframe tbody tr th:only-of-type {\n",
       "        vertical-align: middle;\n",
       "    }\n",
       "\n",
       "    .dataframe tbody tr th {\n",
       "        vertical-align: top;\n",
       "    }\n",
       "\n",
       "    .dataframe thead th {\n",
       "        text-align: right;\n",
       "    }\n",
       "</style>\n",
       "<table border=\"1\" class=\"dataframe\">\n",
       "  <thead>\n",
       "    <tr style=\"text-align: right;\">\n",
       "      <th></th>\n",
       "      <th>text</th>\n",
       "      <th>generated</th>\n",
       "      <th>tokenized_text</th>\n",
       "    </tr>\n",
       "  </thead>\n",
       "  <tbody>\n",
       "    <tr>\n",
       "      <th>0</th>\n",
       "      <td>cars cars have been around since they became f...</td>\n",
       "      <td>0</td>\n",
       "      <td>[cars, cars, have, been, around, since, they, ...</td>\n",
       "    </tr>\n",
       "    <tr>\n",
       "      <th>1</th>\n",
       "      <td>transportation is a large necessity in most co...</td>\n",
       "      <td>0</td>\n",
       "      <td>[transportation, is, a, large, necessity, in, ...</td>\n",
       "    </tr>\n",
       "    <tr>\n",
       "      <th>2</th>\n",
       "      <td>americas love affair with its vehicles seems t...</td>\n",
       "      <td>0</td>\n",
       "      <td>[americas, love, affair, with, its, vehicles, ...</td>\n",
       "    </tr>\n",
       "    <tr>\n",
       "      <th>3</th>\n",
       "      <td>how often do you ride in a car do you drive a ...</td>\n",
       "      <td>0</td>\n",
       "      <td>[how, often, do, you, ride, in, a, car, do, yo...</td>\n",
       "    </tr>\n",
       "    <tr>\n",
       "      <th>4</th>\n",
       "      <td>cars are a wonderful thing they are perhaps on...</td>\n",
       "      <td>0</td>\n",
       "      <td>[cars, are, a, wonderful, thing, they, are, pe...</td>\n",
       "    </tr>\n",
       "  </tbody>\n",
       "</table>\n",
       "</div>"
      ],
      "text/plain": [
       "                                                text  generated  \\\n",
       "0  cars cars have been around since they became f...          0   \n",
       "1  transportation is a large necessity in most co...          0   \n",
       "2  americas love affair with its vehicles seems t...          0   \n",
       "3  how often do you ride in a car do you drive a ...          0   \n",
       "4  cars are a wonderful thing they are perhaps on...          0   \n",
       "\n",
       "                                      tokenized_text  \n",
       "0  [cars, cars, have, been, around, since, they, ...  \n",
       "1  [transportation, is, a, large, necessity, in, ...  \n",
       "2  [americas, love, affair, with, its, vehicles, ...  \n",
       "3  [how, often, do, you, ride, in, a, car, do, yo...  \n",
       "4  [cars, are, a, wonderful, thing, they, are, pe...  "
      ]
     },
     "execution_count": 17,
     "metadata": {},
     "output_type": "execute_result"
    }
   ],
   "source": [
    "data.head()"
   ]
  },
  {
   "cell_type": "code",
   "execution_count": 18,
   "id": "7e3745dd-48f8-4332-bedc-0a861a283d63",
   "metadata": {
    "tags": []
   },
   "outputs": [
    {
     "name": "stderr",
     "output_type": "stream",
     "text": [
      "[nltk_data] Downloading package stopwords to /root/nltk_data...\n",
      "[nltk_data]   Package stopwords is already up-to-date!\n"
     ]
    }
   ],
   "source": [
    "import nltk\n",
    "from nltk.corpus import stopwords\n",
    "\n",
    "nltk.download('stopwords')\n",
    "\n",
    "stop_words = set(stopwords.words('english'))"
   ]
  },
  {
   "cell_type": "code",
   "execution_count": 19,
   "id": "25963b42-71df-4418-b247-5c6d7a6cd355",
   "metadata": {
    "tags": []
   },
   "outputs": [],
   "source": [
    "def remove_stopwords(tokens):\n",
    "    filtered_tokens = [word for word in tokens if word.lower() not in stop_words]\n",
    "    return filtered_tokens"
   ]
  },
  {
   "cell_type": "code",
   "execution_count": 20,
   "id": "b2354f56-cff2-43f0-9441-a7e156391aec",
   "metadata": {
    "tags": []
   },
   "outputs": [],
   "source": [
    "data['tokenized_text'] = data['tokenized_text'].apply(lambda x: remove_stopwords(x))"
   ]
  },
  {
   "cell_type": "code",
   "execution_count": 21,
   "id": "680c7e32-6546-47bb-9271-a872c0a59cec",
   "metadata": {
    "tags": []
   },
   "outputs": [
    {
     "data": {
      "text/plain": [
       "['many',\n",
       " 'us',\n",
       " 'used',\n",
       " 'getting',\n",
       " 'somewhere',\n",
       " 'simply',\n",
       " 'using',\n",
       " 'car',\n",
       " 'always',\n",
       " 'use',\n",
       " 'car',\n",
       " 'limit',\n",
       " 'car',\n",
       " 'usage',\n",
       " 'solve',\n",
       " 'problems',\n",
       " 'save',\n",
       " 'comically',\n",
       " 'collect',\n",
       " 'less',\n",
       " 'polution',\n",
       " 'source',\n",
       " 'one',\n",
       " 'german',\n",
       " 'suburbs',\n",
       " 'car',\n",
       " 'free',\n",
       " 'street',\n",
       " 'parking',\n",
       " 'driveways',\n",
       " 'home',\n",
       " 'garages',\n",
       " 'forbidden',\n",
       " 'generally',\n",
       " 'car',\n",
       " 'ownership',\n",
       " 'allowed',\n",
       " 'however',\n",
       " 'carowner',\n",
       " 'buys',\n",
       " 'space',\n",
       " 'car',\n",
       " 'pay',\n",
       " 'near',\n",
       " 'along',\n",
       " 'home',\n",
       " 'result',\n",
       " 'according',\n",
       " 'source',\n",
       " 'one',\n",
       " 'percent',\n",
       " 'vaughns',\n",
       " 'families',\n",
       " 'cars',\n",
       " 'percent',\n",
       " 'sold',\n",
       " 'car',\n",
       " 'move',\n",
       " 'many',\n",
       " 'citizens',\n",
       " 'complain',\n",
       " 'gas',\n",
       " 'prices',\n",
       " 'go',\n",
       " 'limit',\n",
       " 'car',\n",
       " 'usage',\n",
       " 'wont',\n",
       " 'complain',\n",
       " 'anymore',\n",
       " 'save',\n",
       " 'money',\n",
       " 'decrease',\n",
       " 'usage',\n",
       " 'cars',\n",
       " 'wont',\n",
       " 'use',\n",
       " 'much',\n",
       " 'gas',\n",
       " 'diesel',\n",
       " 'heidrun',\n",
       " 'walter',\n",
       " 'told',\n",
       " 'elisabeth',\n",
       " 'rosenthal',\n",
       " 'lives',\n",
       " 'happier',\n",
       " 'way',\n",
       " 'save',\n",
       " 'money',\n",
       " 'also',\n",
       " 'relieve',\n",
       " 'tension',\n",
       " 'bodies',\n",
       " 'however',\n",
       " 'may',\n",
       " 'enjoy',\n",
       " 'new',\n",
       " 'idea',\n",
       " 'limiting',\n",
       " 'car',\n",
       " 'usage',\n",
       " 'us',\n",
       " 'actually',\n",
       " 'enjoy',\n",
       " 'driving',\n",
       " 'days',\n",
       " 'long',\n",
       " 'day',\n",
       " 'working',\n",
       " 'last',\n",
       " 'thing',\n",
       " 'want',\n",
       " 'traffic',\n",
       " 'jamsits',\n",
       " 'good',\n",
       " 'opportunity',\n",
       " 'take',\n",
       " 'away',\n",
       " 'stress',\n",
       " 'lower',\n",
       " 'air',\n",
       " 'pollution',\n",
       " 'said',\n",
       " 'businessman',\n",
       " 'named',\n",
       " 'carlos',\n",
       " 'arturo',\n",
       " 'plaza',\n",
       " 'rides',\n",
       " 'two',\n",
       " 'seat',\n",
       " 'bicycle',\n",
       " 'wife',\n",
       " 'ways',\n",
       " 'limiting',\n",
       " 'car',\n",
       " 'usage',\n",
       " 'could',\n",
       " 'help',\n",
       " 'us',\n",
       " 'eliminating',\n",
       " 'pollution',\n",
       " 'course',\n",
       " 'everyone',\n",
       " 'enjoys',\n",
       " 'breathing',\n",
       " 'fresh',\n",
       " 'air',\n",
       " 'limiting',\n",
       " 'car',\n",
       " 'usage',\n",
       " 'help',\n",
       " 'lower',\n",
       " 'polution',\n",
       " 'according',\n",
       " 'source',\n",
       " 'two',\n",
       " 'days',\n",
       " 'nearrecord',\n",
       " 'pollution',\n",
       " 'paris',\n",
       " 'enforced',\n",
       " 'partial',\n",
       " 'driving',\n",
       " 'ban',\n",
       " 'clear',\n",
       " 'air',\n",
       " 'global',\n",
       " 'city',\n",
       " 'usage',\n",
       " 'car',\n",
       " 'produced',\n",
       " 'much',\n",
       " 'smog',\n",
       " 'ban',\n",
       " 'driving',\n",
       " 'many',\n",
       " 'use',\n",
       " 'drive',\n",
       " 'many',\n",
       " 'places',\n",
       " 'near',\n",
       " 'reality',\n",
       " 'dont',\n",
       " 'really',\n",
       " 'use',\n",
       " 'car',\n",
       " 'reduce',\n",
       " 'pollution',\n",
       " 'also',\n",
       " 'maintain',\n",
       " 'fit',\n",
       " 'using',\n",
       " 'different',\n",
       " 'alternatives',\n",
       " 'like',\n",
       " 'walking',\n",
       " 'running',\n",
       " 'ridding',\n",
       " 'bikes',\n",
       " 'although',\n",
       " 'may',\n",
       " 'say',\n",
       " 'emergency',\n",
       " 'fine',\n",
       " 'limiting',\n",
       " 'car',\n",
       " 'usage',\n",
       " 'arent',\n",
       " 'goining',\n",
       " 'ban',\n",
       " 'forever',\n",
       " 'limit',\n",
       " 'car',\n",
       " 'usage',\n",
       " 'save',\n",
       " 'money',\n",
       " 'also',\n",
       " 'reduce',\n",
       " 'polution',\n",
       " 'better',\n",
       " 'lifestyle',\n",
       " 'although',\n",
       " 'arent',\n",
       " 'ways',\n",
       " 'limiting',\n",
       " 'car',\n",
       " 'usage',\n",
       " 'benefit',\n",
       " 'us']"
      ]
     },
     "execution_count": 21,
     "metadata": {},
     "output_type": "execute_result"
    }
   ],
   "source": [
    "data['tokenized_text'][777]"
   ]
  },
  {
   "cell_type": "code",
   "execution_count": 22,
   "id": "8e86bdde-1cc4-44f9-ad4a-f43bd746a2b7",
   "metadata": {
    "tags": []
   },
   "outputs": [
    {
     "name": "stderr",
     "output_type": "stream",
     "text": [
      "[nltk_data] Downloading package wordnet to /root/nltk_data...\n",
      "[nltk_data]   Package wordnet is already up-to-date!\n"
     ]
    }
   ],
   "source": [
    "from nltk.stem import WordNetLemmatizer\n",
    "import nltk\n",
    "nltk.download('wordnet')\n",
    "\n",
    "lemmatizer = WordNetLemmatizer()\n",
    "\n",
    "def lemmatize_text(tokens):\n",
    "    lemmatized_tokens = [lemmatizer.lemmatize(word) for word in tokens]\n",
    "    return lemmatized_tokens\n",
    "\n",
    "data['lemmatized_text'] = data['tokenized_text'].apply(lemmatize_text)"
   ]
  },
  {
   "cell_type": "code",
   "execution_count": 23,
   "id": "cf23e605-3fca-47fa-aa41-15e0eb94df4c",
   "metadata": {
    "tags": []
   },
   "outputs": [],
   "source": [
    "X = data['lemmatized_text']\n",
    "y = data['generated']"
   ]
  },
  {
   "cell_type": "code",
   "execution_count": 24,
   "id": "e00feba8-6d8e-4963-8116-937fb7b8f5c8",
   "metadata": {
    "tags": []
   },
   "outputs": [
    {
     "data": {
      "text/plain": [
       "generated\n",
       "0    305797\n",
       "1    181438\n",
       "Name: count, dtype: int64"
      ]
     },
     "execution_count": 24,
     "metadata": {},
     "output_type": "execute_result"
    }
   ],
   "source": [
    "data['generated'].value_counts()"
   ]
  },
  {
   "cell_type": "code",
   "execution_count": 25,
   "id": "e6686fce-6e0a-4c41-9899-698c31c927fe",
   "metadata": {
    "tags": []
   },
   "outputs": [],
   "source": [
    "X = [' '.join(doc) for doc in X]"
   ]
  },
  {
   "cell_type": "code",
   "execution_count": 26,
   "id": "25ba2a65-8704-49d3-a549-d6e83ea6eb4c",
   "metadata": {
    "tags": []
   },
   "outputs": [],
   "source": [
    "from sklearn.model_selection import train_test_split\n",
    "\n",
    "X_train, X_test, y_train, y_test = train_test_split(X, y, test_size=0.2, random_state=42, stratify=y)"
   ]
  },
  {
   "cell_type": "code",
   "execution_count": 27,
   "id": "83de38fb-05d1-4aae-b506-67a06098bf28",
   "metadata": {
    "tags": []
   },
   "outputs": [],
   "source": [
    "pipeline_xgboost = Pipeline([\n",
    "    ('count_vectorizer', CountVectorizer()),\n",
    "    ('tfidf_transformer', TfidfTransformer()),\n",
    "    ('xgboost', XGBClassifier()) \n",
    "])"
   ]
  },
  {
   "cell_type": "code",
   "execution_count": 28,
   "id": "889f03a4-f1c4-4740-8711-e860fa51da95",
   "metadata": {
    "tags": []
   },
   "outputs": [
    {
     "data": {
      "text/html": [
       "<style>#sk-container-id-1 {color: black;}#sk-container-id-1 pre{padding: 0;}#sk-container-id-1 div.sk-toggleable {background-color: white;}#sk-container-id-1 label.sk-toggleable__label {cursor: pointer;display: block;width: 100%;margin-bottom: 0;padding: 0.3em;box-sizing: border-box;text-align: center;}#sk-container-id-1 label.sk-toggleable__label-arrow:before {content: \"▸\";float: left;margin-right: 0.25em;color: #696969;}#sk-container-id-1 label.sk-toggleable__label-arrow:hover:before {color: black;}#sk-container-id-1 div.sk-estimator:hover label.sk-toggleable__label-arrow:before {color: black;}#sk-container-id-1 div.sk-toggleable__content {max-height: 0;max-width: 0;overflow: hidden;text-align: left;background-color: #f0f8ff;}#sk-container-id-1 div.sk-toggleable__content pre {margin: 0.2em;color: black;border-radius: 0.25em;background-color: #f0f8ff;}#sk-container-id-1 input.sk-toggleable__control:checked~div.sk-toggleable__content {max-height: 200px;max-width: 100%;overflow: auto;}#sk-container-id-1 input.sk-toggleable__control:checked~label.sk-toggleable__label-arrow:before {content: \"▾\";}#sk-container-id-1 div.sk-estimator input.sk-toggleable__control:checked~label.sk-toggleable__label {background-color: #d4ebff;}#sk-container-id-1 div.sk-label input.sk-toggleable__control:checked~label.sk-toggleable__label {background-color: #d4ebff;}#sk-container-id-1 input.sk-hidden--visually {border: 0;clip: rect(1px 1px 1px 1px);clip: rect(1px, 1px, 1px, 1px);height: 1px;margin: -1px;overflow: hidden;padding: 0;position: absolute;width: 1px;}#sk-container-id-1 div.sk-estimator {font-family: monospace;background-color: #f0f8ff;border: 1px dotted black;border-radius: 0.25em;box-sizing: border-box;margin-bottom: 0.5em;}#sk-container-id-1 div.sk-estimator:hover {background-color: #d4ebff;}#sk-container-id-1 div.sk-parallel-item::after {content: \"\";width: 100%;border-bottom: 1px solid gray;flex-grow: 1;}#sk-container-id-1 div.sk-label:hover label.sk-toggleable__label {background-color: #d4ebff;}#sk-container-id-1 div.sk-serial::before {content: \"\";position: absolute;border-left: 1px solid gray;box-sizing: border-box;top: 0;bottom: 0;left: 50%;z-index: 0;}#sk-container-id-1 div.sk-serial {display: flex;flex-direction: column;align-items: center;background-color: white;padding-right: 0.2em;padding-left: 0.2em;position: relative;}#sk-container-id-1 div.sk-item {position: relative;z-index: 1;}#sk-container-id-1 div.sk-parallel {display: flex;align-items: stretch;justify-content: center;background-color: white;position: relative;}#sk-container-id-1 div.sk-item::before, #sk-container-id-1 div.sk-parallel-item::before {content: \"\";position: absolute;border-left: 1px solid gray;box-sizing: border-box;top: 0;bottom: 0;left: 50%;z-index: -1;}#sk-container-id-1 div.sk-parallel-item {display: flex;flex-direction: column;z-index: 1;position: relative;background-color: white;}#sk-container-id-1 div.sk-parallel-item:first-child::after {align-self: flex-end;width: 50%;}#sk-container-id-1 div.sk-parallel-item:last-child::after {align-self: flex-start;width: 50%;}#sk-container-id-1 div.sk-parallel-item:only-child::after {width: 0;}#sk-container-id-1 div.sk-dashed-wrapped {border: 1px dashed gray;margin: 0 0.4em 0.5em 0.4em;box-sizing: border-box;padding-bottom: 0.4em;background-color: white;}#sk-container-id-1 div.sk-label label {font-family: monospace;font-weight: bold;display: inline-block;line-height: 1.2em;}#sk-container-id-1 div.sk-label-container {text-align: center;}#sk-container-id-1 div.sk-container {/* jupyter's `normalize.less` sets `[hidden] { display: none; }` but bootstrap.min.css set `[hidden] { display: none !important; }` so we also need the `!important` here to be able to override the default hidden behavior on the sphinx rendered scikit-learn.org. See: https://github.com/scikit-learn/scikit-learn/issues/21755 */display: inline-block !important;position: relative;}#sk-container-id-1 div.sk-text-repr-fallback {display: none;}</style><div id=\"sk-container-id-1\" class=\"sk-top-container\"><div class=\"sk-text-repr-fallback\"><pre>Pipeline(steps=[(&#x27;count_vectorizer&#x27;, CountVectorizer()),\n",
       "                (&#x27;tfidf_transformer&#x27;, TfidfTransformer()),\n",
       "                (&#x27;xgboost&#x27;,\n",
       "                 XGBClassifier(base_score=None, booster=None, callbacks=None,\n",
       "                               colsample_bylevel=None, colsample_bynode=None,\n",
       "                               colsample_bytree=None,\n",
       "                               early_stopping_rounds=None,\n",
       "                               enable_categorical=False, eval_metric=None,\n",
       "                               feature_types=None, gamma=None, gpu_id=None,\n",
       "                               grow_policy=None, importance_type=None,\n",
       "                               interaction_constraints=None, learning_rate=None,\n",
       "                               max_bin=None, max_cat_threshold=None,\n",
       "                               max_cat_to_onehot=None, max_delta_step=None,\n",
       "                               max_depth=None, max_leaves=None,\n",
       "                               min_child_weight=None, missing=nan,\n",
       "                               monotone_constraints=None, n_estimators=100,\n",
       "                               n_jobs=None, num_parallel_tree=None,\n",
       "                               predictor=None, random_state=None, ...))])</pre><b>In a Jupyter environment, please rerun this cell to show the HTML representation or trust the notebook. <br />On GitHub, the HTML representation is unable to render, please try loading this page with nbviewer.org.</b></div><div class=\"sk-container\" hidden><div class=\"sk-item sk-dashed-wrapped\"><div class=\"sk-label-container\"><div class=\"sk-label sk-toggleable\"><input class=\"sk-toggleable__control sk-hidden--visually\" id=\"sk-estimator-id-1\" type=\"checkbox\" ><label for=\"sk-estimator-id-1\" class=\"sk-toggleable__label sk-toggleable__label-arrow\">Pipeline</label><div class=\"sk-toggleable__content\"><pre>Pipeline(steps=[(&#x27;count_vectorizer&#x27;, CountVectorizer()),\n",
       "                (&#x27;tfidf_transformer&#x27;, TfidfTransformer()),\n",
       "                (&#x27;xgboost&#x27;,\n",
       "                 XGBClassifier(base_score=None, booster=None, callbacks=None,\n",
       "                               colsample_bylevel=None, colsample_bynode=None,\n",
       "                               colsample_bytree=None,\n",
       "                               early_stopping_rounds=None,\n",
       "                               enable_categorical=False, eval_metric=None,\n",
       "                               feature_types=None, gamma=None, gpu_id=None,\n",
       "                               grow_policy=None, importance_type=None,\n",
       "                               interaction_constraints=None, learning_rate=None,\n",
       "                               max_bin=None, max_cat_threshold=None,\n",
       "                               max_cat_to_onehot=None, max_delta_step=None,\n",
       "                               max_depth=None, max_leaves=None,\n",
       "                               min_child_weight=None, missing=nan,\n",
       "                               monotone_constraints=None, n_estimators=100,\n",
       "                               n_jobs=None, num_parallel_tree=None,\n",
       "                               predictor=None, random_state=None, ...))])</pre></div></div></div><div class=\"sk-serial\"><div class=\"sk-item\"><div class=\"sk-estimator sk-toggleable\"><input class=\"sk-toggleable__control sk-hidden--visually\" id=\"sk-estimator-id-2\" type=\"checkbox\" ><label for=\"sk-estimator-id-2\" class=\"sk-toggleable__label sk-toggleable__label-arrow\">CountVectorizer</label><div class=\"sk-toggleable__content\"><pre>CountVectorizer()</pre></div></div></div><div class=\"sk-item\"><div class=\"sk-estimator sk-toggleable\"><input class=\"sk-toggleable__control sk-hidden--visually\" id=\"sk-estimator-id-3\" type=\"checkbox\" ><label for=\"sk-estimator-id-3\" class=\"sk-toggleable__label sk-toggleable__label-arrow\">TfidfTransformer</label><div class=\"sk-toggleable__content\"><pre>TfidfTransformer()</pre></div></div></div><div class=\"sk-item\"><div class=\"sk-estimator sk-toggleable\"><input class=\"sk-toggleable__control sk-hidden--visually\" id=\"sk-estimator-id-4\" type=\"checkbox\" ><label for=\"sk-estimator-id-4\" class=\"sk-toggleable__label sk-toggleable__label-arrow\">XGBClassifier</label><div class=\"sk-toggleable__content\"><pre>XGBClassifier(base_score=None, booster=None, callbacks=None,\n",
       "              colsample_bylevel=None, colsample_bynode=None,\n",
       "              colsample_bytree=None, early_stopping_rounds=None,\n",
       "              enable_categorical=False, eval_metric=None, feature_types=None,\n",
       "              gamma=None, gpu_id=None, grow_policy=None, importance_type=None,\n",
       "              interaction_constraints=None, learning_rate=None, max_bin=None,\n",
       "              max_cat_threshold=None, max_cat_to_onehot=None,\n",
       "              max_delta_step=None, max_depth=None, max_leaves=None,\n",
       "              min_child_weight=None, missing=nan, monotone_constraints=None,\n",
       "              n_estimators=100, n_jobs=None, num_parallel_tree=None,\n",
       "              predictor=None, random_state=None, ...)</pre></div></div></div></div></div></div></div>"
      ],
      "text/plain": [
       "Pipeline(steps=[('count_vectorizer', CountVectorizer()),\n",
       "                ('tfidf_transformer', TfidfTransformer()),\n",
       "                ('xgboost',\n",
       "                 XGBClassifier(base_score=None, booster=None, callbacks=None,\n",
       "                               colsample_bylevel=None, colsample_bynode=None,\n",
       "                               colsample_bytree=None,\n",
       "                               early_stopping_rounds=None,\n",
       "                               enable_categorical=False, eval_metric=None,\n",
       "                               feature_types=None, gamma=None, gpu_id=None,\n",
       "                               grow_policy=None, importance_type=None,\n",
       "                               interaction_constraints=None, learning_rate=None,\n",
       "                               max_bin=None, max_cat_threshold=None,\n",
       "                               max_cat_to_onehot=None, max_delta_step=None,\n",
       "                               max_depth=None, max_leaves=None,\n",
       "                               min_child_weight=None, missing=nan,\n",
       "                               monotone_constraints=None, n_estimators=100,\n",
       "                               n_jobs=None, num_parallel_tree=None,\n",
       "                               predictor=None, random_state=None, ...))])"
      ]
     },
     "execution_count": 28,
     "metadata": {},
     "output_type": "execute_result"
    }
   ],
   "source": [
    "pipeline_xgboost.fit(X_train, y_train)"
   ]
  },
  {
   "cell_type": "code",
   "execution_count": 29,
   "id": "e1256bf0-b14c-4fe5-bd91-271035052dd7",
   "metadata": {
    "tags": []
   },
   "outputs": [],
   "source": [
    "y_pred_xgboost = pipeline_xgboost.predict(X_test)"
   ]
  },
  {
   "cell_type": "code",
   "execution_count": 30,
   "id": "7019b04f-716d-4f55-af7d-344cdac123ff",
   "metadata": {
    "tags": []
   },
   "outputs": [
    {
     "name": "stdout",
     "output_type": "stream",
     "text": [
      "Accuracy: 0.9946021940131559\n",
      "Precision: 0.9946110372252687\n",
      "Recall: 0.9946021940131559\n",
      "F1 Score: 0.9945979362627055\n"
     ]
    }
   ],
   "source": [
    "from sklearn.metrics import accuracy_score, precision_recall_fscore_support\n",
    "\n",
    "accuracy = accuracy_score(y_test, y_pred_xgboost)\n",
    "precision, recall, f1, _ = precision_recall_fscore_support(y_test, y_pred_xgboost, average='weighted')\n",
    "\n",
    "print('Accuracy:', accuracy)\n",
    "print('Precision:', precision)\n",
    "print('Recall:', recall)\n",
    "print('F1 Score:', f1)"
   ]
  },
  {
   "cell_type": "code",
   "execution_count": 32,
   "id": "a8935229-8fa5-4106-9642-6a6aff34fee5",
   "metadata": {
    "tags": []
   },
   "outputs": [
    {
     "data": {
      "image/png": "[encoded data removed]",
      "text/plain": [
       "<Figure size 640x480 with 2 Axes>"
      ]
     },
     "metadata": {},
     "output_type": "display_data"
    }
   ],
   "source": [
    "from sklearn.metrics import confusion_matrix\n",
    "import seaborn as sns\n",
    "import matplotlib.pyplot as plt\n",
    "\n",
    "cm = confusion_matrix(y_test, y_pred_xgboost)\n",
    "\n",
    "sns.heatmap(cm, annot=True, fmt=\"d\", cmap=\"Blues\")\n",
    "\n",
    "plt.title(\"Confusion Matrix\")\n",
    "plt.xlabel(\"Predicted Labels\")\n",
    "plt.ylabel(\"True Labels\")\n",
    "\n",
    "plt.show()"
   ]
  },
  {
   "cell_type": "code",
   "execution_count": 33,
   "id": "63aff2f6-0e42-4028-a3ec-457499719bf6",
   "metadata": {
    "tags": []
   },
   "outputs": [
    {
     "data": {
      "image/png": "[encoded data removed]",
      "text/plain": [
       "<Figure size 800x600 with 1 Axes>"
      ]
     },
     "metadata": {},
     "output_type": "display_data"
    }
   ],
   "source": [
    "from sklearn.metrics import precision_recall_curve, auc\n",
    "\n",
    "precision, recall, _ = precision_recall_curve(y_test, y_pred_xgboost)\n",
    "auc_score = auc(recall, precision)\n",
    "\n",
    "\n",
    "plt.figure(figsize=(8, 6))\n",
    "plt.plot(recall, precision, label=f'Precision-Recall Curve (AUC = {auc_score:.2f})', color='b')\n",
    "plt.xlabel('Recall')\n",
    "plt.ylabel('Precision')\n",
    "plt.title('Precision-Recall Curve')\n",
    "plt.legend(loc='best')\n",
    "plt.show()"
   ]
  },
  {
   "cell_type": "code",
   "execution_count": 34,
   "id": "08e6c348-7ab5-49ff-b136-2f16d439a9d0",
   "metadata": {
    "tags": []
   },
   "outputs": [
    {
     "data": {
      "image/png": "[encoded data removed]",
      "text/plain": [
       "<Figure size 640x480 with 1 Axes>"
      ]
     },
     "metadata": {},
     "output_type": "display_data"
    }
   ],
   "source": [
    "from sklearn.metrics import roc_curve, roc_auc_score\n",
    "\n",
    "fpr, tpr, thresholds = roc_curve(y_test, y_pred_xgboost)\n",
    "auc = roc_auc_score(y_test, y_pred_xgboost)\n",
    "\n",
    "plt.plot(fpr, tpr, label='ROC Curve (AUC = %0.2f)' % auc)\n",
    "plt.plot([0, 1], [0, 1], 'k--')\n",
    "plt.xlabel('False Positive Rate')\n",
    "plt.ylabel('True Positive Rate')\n",
    "plt.title('ROC Curve')\n",
    "plt.legend(loc='lower right')\n",
    "plt.show()"
   ]
  },
  {
   "cell_type": "code",
   "execution_count": 35,
   "id": "c11c15b3-5cac-4442-a5ae-3bf76918da37",
   "metadata": {
    "tags": []
   },
   "outputs": [
    {
     "name": "stdout",
     "output_type": "stream",
     "text": [
      "\n",
      "Results for pipeline: XGBoost\n",
      "Predicted class: AI\n",
      "Probability of being Human: 0.13361096\n",
      "Probability of being AI: 0.86638904\n"
     ]
    }
   ],
   "source": [
    "pipelines = {\n",
    "    \"XGBoost\": pipeline_xgboost\n",
    "}\n",
    "input_text = [\n",
    "    \"Sitting beneath the shade of an apple tree on a sunny day, a child with a book of fairy tales found solace. Lost in the pages, a bird's cheerful melody pierced the tranquility nearby. Enveloped by the sounds of nature, the child drifted into a world of fantasy.\"\n",
    "]\n",
    "# Loop through each pipeline name and test it\n",
    "for name, pipeline in pipelines.items():\n",
    "    # Predict class and probabilities using the current pipeline\n",
    "    predicted_class = pipeline.predict(input_text)\n",
    "    predicted_probabilities = pipeline.predict_proba(input_text)\n",
    "\n",
    "    print(f\"\\nResults for pipeline: {name}\")\n",
    "    if predicted_class[0] == 0:\n",
    "        print(\"Predicted class: Human\")\n",
    "    elif predicted_class[0] == 1:\n",
    "        print(\"Predicted class: AI\")\n",
    "    print(\"Probability of being Human:\", predicted_probabilities[0][0])\n",
    "    print(\"Probability of being AI:\", predicted_probabilities[0][1])"
   ]
  },
  {
   "cell_type": "code",
   "execution_count": null,
   "id": "cf3f4551-f05c-43c8-aa45-86c348ff831e",
   "metadata": {},
   "outputs": [],
   "source": []
  }
 ],
 "metadata": {
  "kernelspec": {
   "display_name": "Python 3 (ipykernel)",
   "language": "python",
   "name": "python3"
  },
  "language_info": {
   "codemirror_mode": {
    "name": "ipython",
    "version": 3
   },
   "file_extension": ".py",
   "mimetype": "text/x-python",
   "name": "python",
   "nbconvert_exporter": "python",
   "pygments_lexer": "ipython3",
   "version": "3.11.7"
  }
 },
 "nbformat": 4,
 "nbformat_minor": 5
}
